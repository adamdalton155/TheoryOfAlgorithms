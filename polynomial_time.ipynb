{
 "cells": [
  {
   "attachments": {},
   "cell_type": "markdown",
   "id": "381452e5",
   "metadata": {},
   "source": [
    "<h1 style=\"color:red\">Polynomial Time</h1>\n",
    "<hr>"
   ]
  }
 ],
 "metadata": {
  "kernelspec": {
   "display_name": "base",
   "language": "python",
   "name": "python3"
  },
  "language_info": {
   "codemirror_mode": {
    "name": "ipython",
    "version": 3
   },
   "file_extension": ".py",
   "mimetype": "text/x-python",
   "name": "python",
   "nbconvert_exporter": "python",
   "pygments_lexer": "ipython3",
   "version": "3.9.15"
  },
  "vscode": {
   "interpreter": {
    "hash": "f176395ce4c2304b497421fb1866b077f3f965c24f63e7824eefa3a7d41c927c"
   }
  }
 },
 "nbformat": 4,
 "nbformat_minor": 5
}
