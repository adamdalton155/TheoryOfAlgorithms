{
 "cells": [
  {
   "attachments": {},
   "cell_type": "markdown",
   "id": "381452e5",
   "metadata": {},
   "source": [
    "<h1 style=\"color:red\">The Polynomial Time Complexity Class (P)</h1>\n",
    "<hr>"
   ]
  },
  {
   "attachments": {},
   "cell_type": "markdown",
   "id": "3ab94606",
   "metadata": {},
   "source": [
    "<h2 style=\"color: blue;\">What is time complexity?</h2>"
   ]
  },
  {
   "attachments": {},
   "cell_type": "markdown",
   "id": "fc7e1b43",
   "metadata": {},
   "source": [
    "In computer science, time complexity can be described as the theory of computation that studies the resources and cost of the computation required to solve a computational problem. Furthermore, complexity theory also analyzes the difficulty of the problem in terms of various computational resources. An example of this is mowing grass. This task has a linear complexity as it takes double the time to mow double the area. However, looking up a word in a dictionary has logarithmic complexity because if you start in the exactly in the middle, the problem is reduced to the half where the word is. Time complexity is often estimated by counting the number of operations to complete the algorithm supposing that each step takes a fixed amount of execution time. The algorithm (the steps followed) is a set of instructions to solve a problem. Based on this, the instructions are given to a computer to execute said algorithm. The steps can be defined in number of different ways and can also depend on the programming language used to perform the operation due to varying syntax and performance of the language chosen. The performance of the algorithm will also vary depending on the operating system, hardware, software, method used etc.\n",
    "\n"
   ]
  },
  {
   "attachments": {},
   "cell_type": "markdown",
   "id": "10b8f7d1",
   "metadata": {},
   "source": [
    "<h2 style=\"color: blue;\">Measuring time complexity</h2>"
   ]
  },
  {
   "attachments": {},
   "cell_type": "markdown",
   "id": "05f09325",
   "metadata": {},
   "source": [
    "How we go about measuring time complexity is with Big O Notation. Big O Notation is the language we used to describe the time complexity of an algorithm, compare the efficiency and to make decisions about how we solve a problem. Under the umbrella term Big O notation, there are sub categories that are important to understand as well.\n",
    " -  The first one we will look at is Constant Time Complexity O(1). When the time complexity is constant, the size of input (n) doesnt matter. An algorithm with a constant time complexity takes a constant amount of time to run, regardless of the size of the input n, because of this, Constant Time Complexity is one of te fastest algorithms out there. An example of this is printing out Hello World. Printing out that statement has a Constant Time Complexity because the number of operations to complete is always 1. It's important to ensure that there are no loops, recursion or non-constant time functions as this can result in a different time complexity.\n",
    "\n",
    " - The second time complexity is Linear Time Complexity O(n). This occurs when the time complexity grows in direct relation to the size of the input n. The input is processed in n number of operations meaning the bigger the input, the longer the algorithm will take to complete. This is generally used when the problem requires us to look at every item in a list e.g. finding the maximum value. A more real world example if we are trying to find a book on a shelf, we have to check each book individually to find the one we are looking for."
   ]
  },
  {
   "cell_type": "markdown",
   "id": "000d9685",
   "metadata": {},
   "source": []
  }
 ],
 "metadata": {
  "kernelspec": {
   "display_name": "base",
   "language": "python",
   "name": "python3"
  },
  "language_info": {
   "codemirror_mode": {
    "name": "ipython",
    "version": 3
   },
   "file_extension": ".py",
   "mimetype": "text/x-python",
   "name": "python",
   "nbconvert_exporter": "python",
   "pygments_lexer": "ipython3",
   "version": "3.9.15"
  },
  "vscode": {
   "interpreter": {
    "hash": "f176395ce4c2304b497421fb1866b077f3f965c24f63e7824eefa3a7d41c927c"
   }
  }
 },
 "nbformat": 4,
 "nbformat_minor": 5
}
