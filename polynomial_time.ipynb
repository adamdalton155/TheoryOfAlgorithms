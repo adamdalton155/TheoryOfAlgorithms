{
 "cells": [
  {
   "attachments": {},
   "cell_type": "markdown",
   "id": "381452e5",
   "metadata": {},
   "source": [
    "<h1 style=\"color:red\">The Polynomial Time Complexity Class (P)</h1>\n",
    "<hr>"
   ]
  },
  {
   "attachments": {},
   "cell_type": "markdown",
   "id": "3ab94606",
   "metadata": {},
   "source": [
    "<h2 style=\"color: lightblue;\">What is time complexity?</h2>"
   ]
  },
  {
   "attachments": {},
   "cell_type": "markdown",
   "id": "fc7e1b43",
   "metadata": {},
   "source": [
    "In computer science, time complexity can be described as the theory of computation that studies the resources and cost of the computation required to solve a computational problem. Furthermore, complexity theory also analyzes the difficulty of the problem in terms of various computational resources. An example of this is mowing grass. This task has a linear complexity as it takes double the time to mow double the area. However, looking up a word in a dictionary has logarithmic complexity because if you start in the exactly in the middle, the problem is reduced to the half where the word is. Time complexity is often estimated by counting the number of operations to complete the algorithm supposing that each step takes a fixed amount of time complete."
   ]
  },
  {
   "cell_type": "markdown",
   "id": "10b8f7d1",
   "metadata": {},
   "source": []
  }
 ],
 "metadata": {
  "kernelspec": {
   "display_name": "base",
   "language": "python",
   "name": "python3"
  },
  "language_info": {
   "codemirror_mode": {
    "name": "ipython",
    "version": 3
   },
   "file_extension": ".py",
   "mimetype": "text/x-python",
   "name": "python",
   "nbconvert_exporter": "python",
   "pygments_lexer": "ipython3",
   "version": "3.9.15"
  },
  "vscode": {
   "interpreter": {
    "hash": "f176395ce4c2304b497421fb1866b077f3f965c24f63e7824eefa3a7d41c927c"
   }
  }
 },
 "nbformat": 4,
 "nbformat_minor": 5
}
